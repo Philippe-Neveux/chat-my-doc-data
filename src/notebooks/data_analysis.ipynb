{
 "cells": [
  {
   "cell_type": "code",
   "execution_count": 1,
   "id": "340b9ba1",
   "metadata": {},
   "outputs": [],
   "source": [
    "import polars as pl\n",
    "\n",
    "df = pl.read_parquet(\"gs://rag-open-data/imdb/standard/imdb_reviews.parquet\")"
   ]
  },
  {
   "cell_type": "code",
   "execution_count": 4,
   "id": "9daeb05e",
   "metadata": {},
   "outputs": [
    {
     "data": {
      "application/vnd.microsoft.datawrangler.viewer.v0+json": {
       "columns": [
        {
         "name": "index",
         "rawType": "int64",
         "type": "integer"
        },
        {
         "name": "title",
         "rawType": "object",
         "type": "string"
        }
       ],
       "ref": "8846f7c9-2491-4938-a3e8-c87d3b63d425",
       "rows": [
        [
         "0",
         "12th Fail"
        ],
        [
         "1",
         "1917"
        ],
        [
         "2",
         "A Complete Unknown"
        ],
        [
         "3",
         "A Quiet Place"
        ],
        [
         "4",
         "A Quiet Place Part II"
        ],
        [
         "5",
         "A Simple Favor"
        ],
        [
         "6",
         "A Star Is Born"
        ],
        [
         "7",
         "Aftersun"
        ],
        [
         "8",
         "Aladdin"
        ],
        [
         "9",
         "Alone"
        ],
        [
         "10",
         "American Made"
        ],
        [
         "11",
         "Anatomy of a Fall"
        ],
        [
         "12",
         "Annihilation"
        ],
        [
         "13",
         "Anora"
        ],
        [
         "14",
         "Another Round"
        ],
        [
         "15",
         "Ant-Man"
        ],
        [
         "16",
         "Anyone But You"
        ],
        [
         "17",
         "Arrival"
        ],
        [
         "18",
         "Avatar: The Way of Water"
        ],
        [
         "19",
         "Avengers: Age of Ultron"
        ],
        [
         "20",
         "Avengers: Endgame"
        ],
        [
         "21",
         "Avengers: Infinity War"
        ],
        [
         "22",
         "Baby Driver"
        ],
        [
         "23",
         "Babylon"
        ],
        [
         "24",
         "Barbarian"
        ],
        [
         "25",
         "Barbie"
        ],
        [
         "26",
         "Batman v Superman: Dawn of Justice"
        ],
        [
         "27",
         "Beautiful Boy"
        ],
        [
         "28",
         "Black Panther"
        ],
        [
         "29",
         "Black Panther: Wakanda Forever"
        ],
        [
         "30",
         "Black Widow"
        ],
        [
         "31",
         "Blade Runner 2049"
        ],
        [
         "32",
         "Bohemian Rhapsody"
        ],
        [
         "33",
         "Bone Tomahawk"
        ],
        [
         "34",
         "Bullet Train"
        ],
        [
         "35",
         "CODA"
        ],
        [
         "36",
         "Call Me by Your Name"
        ],
        [
         "37",
         "Capernaum"
        ],
        [
         "38",
         "Captain America: Civil War"
        ],
        [
         "39",
         "Carry-On"
        ],
        [
         "40",
         "Cinderella"
        ],
        [
         "41",
         "Civil War"
        ],
        [
         "42",
         "Coco"
        ],
        [
         "43",
         "Conclave"
        ],
        [
         "44",
         "Crazy Rich Asians"
        ],
        [
         "45",
         "Creed"
        ],
        [
         "46",
         "Deadpool"
        ],
        [
         "47",
         "Deadpool & Wolverine"
        ],
        [
         "48",
         "Deadpool 2"
        ],
        [
         "49",
         "Demon Slayer: Kimetsu no Yaiba - The Movie: Mugen Train"
        ]
       ],
       "shape": {
        "columns": 1,
        "rows": 250
       }
      },
      "text/html": [
       "<div><style>\n",
       ".dataframe > thead > tr,\n",
       ".dataframe > tbody > tr {\n",
       "  text-align: right;\n",
       "  white-space: pre-wrap;\n",
       "}\n",
       "</style>\n",
       "<small>shape: (250,)</small><table border=\"1\" class=\"dataframe\"><thead><tr><th>title</th></tr><tr><td>str</td></tr></thead><tbody><tr><td>&quot;12th Fail&quot;</td></tr><tr><td>&quot;1917&quot;</td></tr><tr><td>&quot;A Complete Unknown&quot;</td></tr><tr><td>&quot;A Quiet Place&quot;</td></tr><tr><td>&quot;A Quiet Place Part II&quot;</td></tr><tr><td>&hellip;</td></tr><tr><td>&quot;Wrath of Man&quot;</td></tr><tr><td>&quot;X&quot;</td></tr><tr><td>&quot;Your Name.&quot;</td></tr><tr><td>&quot;Zack Snyder&#x27;s Justice League&quot;</td></tr><tr><td>&quot;Zootopia&quot;</td></tr></tbody></table></div>"
      ],
      "text/plain": [
       "shape: (250,)\n",
       "Series: 'title' [str]\n",
       "[\n",
       "\t\"12th Fail\"\n",
       "\t\"1917\"\n",
       "\t\"A Complete Unknown\"\n",
       "\t\"A Quiet Place\"\n",
       "\t\"A Quiet Place Part II\"\n",
       "\t…\n",
       "\t\"Wrath of Man\"\n",
       "\t\"X\"\n",
       "\t\"Your Name.\"\n",
       "\t\"Zack Snyder's Justice League\"\n",
       "\t\"Zootopia\"\n",
       "]"
      ]
     },
     "execution_count": 4,
     "metadata": {},
     "output_type": "execute_result"
    }
   ],
   "source": [
    "df[\"title\"].unique().sort()"
   ]
  },
  {
   "cell_type": "code",
   "execution_count": null,
   "id": "8851fd5b",
   "metadata": {},
   "outputs": [],
   "source": []
  }
 ],
 "metadata": {
  "kernelspec": {
   "display_name": "chat-my-doc-data",
   "language": "python",
   "name": "python3"
  },
  "language_info": {
   "codemirror_mode": {
    "name": "ipython",
    "version": 3
   },
   "file_extension": ".py",
   "mimetype": "text/x-python",
   "name": "python",
   "nbconvert_exporter": "python",
   "pygments_lexer": "ipython3",
   "version": "3.11.12"
  }
 },
 "nbformat": 4,
 "nbformat_minor": 5
}
